{
 "cells": [
  {
   "cell_type": "code",
   "execution_count": 98,
   "id": "f658e4f7-8585-4094-ae0d-7bb76fb55f1e",
   "metadata": {},
   "outputs": [
    {
     "ename": "IndexError",
     "evalue": "list index out of range",
     "output_type": "error",
     "traceback": [
      "\u001b[0;31m\u001b[0m",
      "\u001b[0;31mIndexError\u001b[0mTraceback (most recent call last)",
      "\u001b[0;32m<ipython-input-98-29049fd67ec8>\u001b[0m in \u001b[0;36m<module>\u001b[0;34m\u001b[0m\n\u001b[1;32m     11\u001b[0m \u001b[0;34m\u001b[0m\u001b[0m\n\u001b[1;32m     12\u001b[0m \u001b[0mresult\u001b[0m \u001b[0;34m=\u001b[0m \u001b[0mresult\u001b[0m\u001b[0;34m.\u001b[0m\u001b[0mstdout\u001b[0m\u001b[0;34m.\u001b[0m\u001b[0mread\u001b[0m\u001b[0;34m(\u001b[0m\u001b[0;34m)\u001b[0m\u001b[0;34m\u001b[0m\u001b[0;34m\u001b[0m\u001b[0m\n\u001b[0;32m---> 13\u001b[0;31m \u001b[0mbleu\u001b[0m \u001b[0;34m=\u001b[0m \u001b[0mfloat\u001b[0m\u001b[0;34m(\u001b[0m\u001b[0mresult\u001b[0m\u001b[0;34m.\u001b[0m\u001b[0msplit\u001b[0m\u001b[0;34m(\u001b[0m\u001b[0;34m)\u001b[0m\u001b[0;34m[\u001b[0m\u001b[0;36m2\u001b[0m\u001b[0;34m]\u001b[0m\u001b[0;34m)\u001b[0m\u001b[0;34m\u001b[0m\u001b[0;34m\u001b[0m\u001b[0m\n\u001b[0m",
      "\u001b[0;31mIndexError\u001b[0m: list index out of range"
     ]
    }
   ],
   "source": [
    "import subprocess\n",
    "exp_name = 'exp-3'\n",
    "iterations = 0\n",
    "name = 'valid'\n",
    "file_path = './experiments/'+exp_name+'/outputs/valid/'+'prediction_valid_'+str(iterations)+'.txt'\n",
    "## calculate template bleu\n",
    "if name == \"valid\":\n",
    "    result = subprocess.Popen('cat '+file_path+' | sacrebleu --force ./experiments/'+exp_name+'/data/valid_template.txt', shell=True, stdout=subprocess.PIPE)  \n",
    "elif name == \"test\":\n",
    "    result = subprocess.Popen('cat '+file_path+' | sacrebleu --force ./experiments/'+exp_name+'/data/test_template.txt', shell=True, stdout=subprocess.PIPE)\n",
    "\n",
    "result = result.stdout.read()\n",
    "bleu = float(result.split()[2])  "
   ]
  },
  {
   "cell_type": "code",
   "execution_count": 99,
   "id": "014388f3-4723-49e4-9eaa-00aa097f8bfb",
   "metadata": {},
   "outputs": [
    {
     "data": {
      "text/plain": [
       "'cat ./experiments/exp-3/outputs/valid/prediction_valid_0.txt | sacrebleu --force ./experiments/exp-3/data/valid_template.txt'"
      ]
     },
     "execution_count": 99,
     "metadata": {},
     "output_type": "execute_result"
    }
   ],
   "source": [
    "'cat '+file_path+' | sacrebleu --force ./experiments/'+exp_name+'/data/valid_template.txt'"
   ]
  },
  {
   "cell_type": "code",
   "execution_count": null,
   "id": "f6474070-de12-4de4-8283-30e33c3e2fee",
   "metadata": {},
   "outputs": [],
   "source": []
  }
 ],
 "metadata": {
  "kernelspec": {
   "display_name": "Python 3",
   "language": "python",
   "name": "python3"
  },
  "language_info": {
   "codemirror_mode": {
    "name": "ipython",
    "version": 3
   },
   "file_extension": ".py",
   "mimetype": "text/x-python",
   "name": "python",
   "nbconvert_exporter": "python",
   "pygments_lexer": "ipython3",
   "version": "3.6.9"
  }
 },
 "nbformat": 4,
 "nbformat_minor": 5
}
